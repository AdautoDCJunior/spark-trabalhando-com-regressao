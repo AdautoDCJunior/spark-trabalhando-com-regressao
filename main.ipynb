{
 "cells": [
  {
   "cell_type": "code",
   "execution_count": null,
   "metadata": {},
   "outputs": [],
   "source": [
    "from pyspark.sql import SparkSession\n",
    "\n",
    "spark = SparkSession.builder\\\n",
    "  .master('local[*]')\\\n",
    "  .appName('regressao_spark')\\\n",
    "  .getOrCreate()\n",
    "\n",
    "spark"
   ]
  },
  {
   "cell_type": "code",
   "execution_count": null,
   "metadata": {},
   "outputs": [],
   "source": [
    "dados = spark.read.json('./data/imoveis.json')"
   ]
  },
  {
   "cell_type": "code",
   "execution_count": null,
   "metadata": {},
   "outputs": [],
   "source": [
    "dados.show(truncate=False)"
   ]
  },
  {
   "cell_type": "code",
   "execution_count": null,
   "metadata": {},
   "outputs": [],
   "source": [
    "dados.count()"
   ]
  },
  {
   "cell_type": "code",
   "execution_count": null,
   "metadata": {},
   "outputs": [],
   "source": [
    "dados.printSchema()"
   ]
  },
  {
   "cell_type": "code",
   "execution_count": null,
   "metadata": {},
   "outputs": [],
   "source": [
    "dados.select(\n",
    "  'ident.customerID', 'listing.*'\n",
    ").show(truncate=False)"
   ]
  },
  {
   "cell_type": "code",
   "execution_count": null,
   "metadata": {},
   "outputs": [],
   "source": [
    "dados.select(\n",
    "  'ident.customerID',\n",
    "  'listing.types.*',\n",
    "  'listing.features.*',\n",
    "  'listing.address.*',\n",
    "  'listing.prices.price',\n",
    "  'listing.prices.tax.*'\n",
    ").show(truncate=False)"
   ]
  },
  {
   "cell_type": "code",
   "execution_count": null,
   "metadata": {},
   "outputs": [],
   "source": [
    "dados.select(\n",
    "  'ident.customerID',\n",
    "  'listing.types.*',\n",
    "  'listing.features.*',\n",
    "  'listing.address.*',\n",
    "  'listing.prices.price',\n",
    "  'listing.prices.tax.*'\n",
    ").drop(\n",
    "  'city',\n",
    "  'location',\n",
    "  'totalAreas'\n",
    ").show(truncate=False)"
   ]
  },
  {
   "cell_type": "code",
   "execution_count": 23,
   "metadata": {},
   "outputs": [],
   "source": [
    "dataset = dados.select(\n",
    "  'ident.customerID',\n",
    "  'listing.types.*',\n",
    "  'listing.features.*',\n",
    "  'listing.address.*',\n",
    "  'listing.prices.price',\n",
    "  'listing.prices.tax.*'\n",
    ").drop(\n",
    "  'city',\n",
    "  'location',\n",
    "  'totalAreas'\n",
    ")"
   ]
  },
  {
   "cell_type": "code",
   "execution_count": null,
   "metadata": {},
   "outputs": [],
   "source": [
    "dataset.printSchema()"
   ]
  },
  {
   "cell_type": "code",
   "execution_count": 19,
   "metadata": {},
   "outputs": [],
   "source": [
    "from pyspark.sql.types import IntegerType, DoubleType"
   ]
  },
  {
   "cell_type": "code",
   "execution_count": null,
   "metadata": {},
   "outputs": [],
   "source": [
    "dataset.withColumn(\n",
    "  'usableAreas',\n",
    "  dataset['usableAreas'].cast(IntegerType())\n",
    ").withColumn(\n",
    "  'price',\n",
    "  dataset['price'].cast(DoubleType())\n",
    ").withColumn(\n",
    "  'condo',\n",
    "  dataset['condo'].cast(DoubleType())\n",
    ").withColumn(\n",
    "  'iptu',\n",
    "  dataset['iptu'].cast(DoubleType())\n",
    ").printSchema()"
   ]
  },
  {
   "cell_type": "code",
   "execution_count": 24,
   "metadata": {},
   "outputs": [],
   "source": [
    "dataset = dataset.withColumn(\n",
    "  'usableAreas',\n",
    "  dataset['usableAreas'].cast(IntegerType())\n",
    ").withColumn(\n",
    "  'price',\n",
    "  dataset['price'].cast(DoubleType())\n",
    ").withColumn(\n",
    "  'condo',\n",
    "  dataset['condo'].cast(DoubleType())\n",
    ").withColumn(\n",
    "  'iptu',\n",
    "  dataset['iptu'].cast(DoubleType())\n",
    ")"
   ]
  },
  {
   "cell_type": "code",
   "execution_count": null,
   "metadata": {},
   "outputs": [],
   "source": [
    "dataset.show()"
   ]
  },
  {
   "cell_type": "code",
   "execution_count": null,
   "metadata": {},
   "outputs": [],
   "source": [
    "dataset\\\n",
    "  .select('usage')\\\n",
    "  .groupBy('usage')\\\n",
    "  .count()\\\n",
    "  .show()"
   ]
  },
  {
   "cell_type": "code",
   "execution_count": 28,
   "metadata": {},
   "outputs": [],
   "source": [
    "dataset = dataset\\\n",
    "  .select('*')\\\n",
    "  .where('usage==\"Residencial\"')"
   ]
  },
  {
   "cell_type": "code",
   "execution_count": null,
   "metadata": {},
   "outputs": [],
   "source": [
    "dataset\\\n",
    "  .select('unit')\\\n",
    "  .groupBy('unit')\\\n",
    "  .count()\\\n",
    "  .show()"
   ]
  },
  {
   "cell_type": "code",
   "execution_count": null,
   "metadata": {},
   "outputs": [],
   "source": [
    "dataset\\\n",
    "  .select('zone')\\\n",
    "  .groupBy('zone')\\\n",
    "  .count()\\\n",
    "  .show()"
   ]
  },
  {
   "cell_type": "code",
   "execution_count": 32,
   "metadata": {},
   "outputs": [],
   "source": [
    "from pyspark.sql import functions as f"
   ]
  },
  {
   "cell_type": "code",
   "execution_count": null,
   "metadata": {},
   "outputs": [],
   "source": [
    "dataset.show()"
   ]
  },
  {
   "cell_type": "code",
   "execution_count": null,
   "metadata": {},
   "outputs": [],
   "source": [
    "dataset.select(\n",
    "  [f.count(f.when(f.isnan(c) | f.isnull(c), True)).alias(c) for c in dataset.columns]\n",
    ").show()"
   ]
  },
  {
   "cell_type": "code",
   "execution_count": null,
   "metadata": {},
   "outputs": [],
   "source": [
    "dataset\\\n",
    "  .select('*')\\\n",
    "  .na\\\n",
    "  .fill(0)\\\n",
    "  .show()"
   ]
  },
  {
   "cell_type": "code",
   "execution_count": 37,
   "metadata": {},
   "outputs": [],
   "source": [
    "dataset = dataset\\\n",
    "  .select('*')\\\n",
    "  .na\\\n",
    "  .fill(0)"
   ]
  },
  {
   "cell_type": "code",
   "execution_count": null,
   "metadata": {},
   "outputs": [],
   "source": [
    "dataset.select(\n",
    "  [f.count(f.when(f.isnan(c) | f.isnull(c), True)).alias(c) for c in dataset.columns]\n",
    ").show()"
   ]
  },
  {
   "cell_type": "code",
   "execution_count": null,
   "metadata": {},
   "outputs": [],
   "source": [
    "dataset\\\n",
    "  .select('zone')\\\n",
    "  .groupBy('zone')\\\n",
    "  .count()\\\n",
    "  .show()"
   ]
  },
  {
   "cell_type": "code",
   "execution_count": 40,
   "metadata": {},
   "outputs": [],
   "source": [
    "dataset = dataset.where(f.col('zone') != '')"
   ]
  }
 ],
 "metadata": {
  "kernelspec": {
   "display_name": "venv",
   "language": "python",
   "name": "python3"
  },
  "language_info": {
   "codemirror_mode": {
    "name": "ipython",
    "version": 3
   },
   "file_extension": ".py",
   "mimetype": "text/x-python",
   "name": "python",
   "nbconvert_exporter": "python",
   "pygments_lexer": "ipython3",
   "version": "3.10.6"
  },
  "orig_nbformat": 4
 },
 "nbformat": 4,
 "nbformat_minor": 2
}
